{
 "cells": [
  {
   "cell_type": "markdown",
   "metadata": {},
   "source": [
    "# 주피터 노트북\n",
    "## 주피터 노트북 개요\n",
    "주피터 노트북(Jupyter Notebook)에 대한 학습\n",
    "\n",
    "### Jupyter Notebook 이란?\n",
    "- 2015년 주피터 재단에서 만든 오픈소스 과학연구 목적 개발 플랫폼\n",
    "- https://jupyter.org/"
   ]
  },
  {
   "cell_type": "markdown",
   "metadata": {},
   "source": [
    "### Jupyter Notebook 시작\n",
    "- VS Code > 보기 > 명령 팔레트...(Ctrl + Shift + P) 시작\n",
    "- Create : 새 주피터 노트북 클릭\n",
    "- Untitled-1.ipynb를 저장"
   ]
  },
  {
   "cell_type": "markdown",
   "metadata": {},
   "source": [
    "### 주피터 노트북 영역\n",
    "- 코드 : 파이썬 등 소스코드 작성, 실행 공간\n",
    "- 마크다운 : 마크다운 설명 작성 공간"
   ]
  },
  {
   "cell_type": "markdown",
   "metadata": {},
   "source": [
    "#### 출력\n",
    "- Ctrl + F5 실행은 안함(터미널 사용하지 않음)\n",
    "- print() 함수는 옵션(단 노트북에서만 허용! .py에서는 반드시 print() 사용)"
   ]
  },
  {
   "cell_type": "code",
   "execution_count": 2,
   "metadata": {},
   "outputs": [
    {
     "name": "stdout",
     "output_type": "stream",
     "text": [
      "Hello, Jupyter!\n"
     ]
    }
   ],
   "source": [
    "print('Hello, Jupyter!')"
   ]
  },
  {
   "cell_type": "code",
   "execution_count": 4,
   "metadata": {},
   "outputs": [
    {
     "data": {
      "text/plain": [
       "'Hello, Jupyter'"
      ]
     },
     "execution_count": 4,
     "metadata": {},
     "output_type": "execute_result"
    }
   ],
   "source": [
    "'Hello, Jupyter'"
   ]
  },
  {
   "cell_type": "code",
   "execution_count": 5,
   "metadata": {},
   "outputs": [
    {
     "data": {
      "text/plain": [
       "10"
      ]
     },
     "execution_count": 5,
     "metadata": {},
     "output_type": "execute_result"
    }
   ],
   "source": [
    "a = 10\n",
    "a"
   ]
  },
  {
   "cell_type": "markdown",
   "metadata": {},
   "source": [
    "### 주피터 노트북 단축키\n",
    "- 셀 선택 모드\n",
    "    - b : 아래에 새로운 셀 추가\n",
    "    - m : 마크다운 셀로 변경\n",
    "    - y : 코드 셀로 변경\n",
    "    - Shift + L : 셀에 라인번호 토글\n",
    "\n",
    "- 코드 입력 모드\n",
    "    - Ctrl + Alt + Enter : 마크다운셀 종료, 코드셀 실행\n",
    "    - Shift + Enter : 현재 셀 닫고 아래에 새로운 셀 생성\n",
    "    - Ctrl + / : 주석 처리"
   ]
  },
  {
   "cell_type": "markdown",
   "metadata": {},
   "source": [
    "### 콘솔 실행\n",
    "```python\n",
    "!pip install|uninstall|lists 패키지명\n",
    "```"
   ]
  },
  {
   "cell_type": "code",
   "execution_count": 7,
   "metadata": {},
   "outputs": [
    {
     "name": "stdout",
     "output_type": "stream",
     "text": [
      "Requirement already satisfied: beautifulsoup4 in c:\\dev\\langs\\python312\\lib\\site-packages (4.12.3)\n",
      "Requirement already satisfied: soupsieve>1.2 in c:\\dev\\langs\\python312\\lib\\site-packages (from beautifulsoup4) (2.5)\n"
     ]
    }
   ],
   "source": [
    "# 파이썬 모듈 설치\n",
    "!pip install beautifulsoup4"
   ]
  },
  {
   "cell_type": "code",
   "execution_count": 8,
   "metadata": {},
   "outputs": [
    {
     "name": "stdout",
     "output_type": "stream",
     "text": [
      "Package            Version\n",
      "------------------ ----------\n",
      "asttokens          2.4.1\n",
      "beautifulsoup4     4.12.3\n",
      "certifi            2023.11.17\n",
      "charset-normalizer 3.3.2\n",
      "colorama           0.4.6\n",
      "comm               0.2.1\n",
      "debugpy            1.8.0\n",
      "decorator          5.1.1\n",
      "executing          2.0.1\n",
      "idna               3.6\n",
      "ipykernel          6.29.0\n",
      "ipython            8.21.0\n",
      "jedi               0.19.1\n",
      "jupyter_client     8.6.0\n",
      "jupyter_core       5.7.1\n",
      "matplotlib-inline  0.1.6\n",
      "nest-asyncio       1.6.0\n",
      "packaging          23.2\n",
      "parso              0.8.3\n",
      "pip                23.3.2\n",
      "platformdirs       4.2.0\n",
      "prompt-toolkit     3.0.43\n",
      "psutil             5.9.8\n",
      "pure-eval          0.2.2\n",
      "Pygments           2.17.2\n",
      "python-dateutil    2.8.2\n",
      "pywin32            306\n",
      "pyzmq              25.1.2\n",
      "requests           2.31.0\n",
      "six                1.16.0\n",
      "soupsieve          2.5\n",
      "stack-data         0.6.3\n",
      "tornado            6.4\n",
      "traitlets          5.14.1\n",
      "urllib3            2.2.0\n",
      "wcwidth            0.2.13\n"
     ]
    }
   ],
   "source": [
    "!pip list"
   ]
  },
  {
   "cell_type": "markdown",
   "metadata": {},
   "source": [
    "### 주피터 노트북 작업방법\n",
    "- 코드셀 분리\n",
    "    - 모듈 추가(import) 코트셀 한곳에 모음\n",
    "    - 로직의 영역별로 코트셀 분리 작업\n",
    "\n",
    "#### 파일경로 테스트\n",
    "```python\n",
    "import sys\n",
    "```"
   ]
  },
  {
   "cell_type": "code",
   "execution_count": 11,
   "metadata": {},
   "outputs": [],
   "source": [
    "# 모듈 추가\n",
    "import os\n",
    "import sys"
   ]
  },
  {
   "cell_type": "markdown",
   "metadata": {},
   "source": [
    "실행경로 확인"
   ]
  },
  {
   "cell_type": "code",
   "execution_count": 13,
   "metadata": {},
   "outputs": [
    {
     "data": {
      "text/plain": [
       "'c:\\\\DEV\\\\Langs\\\\Python312\\\\python.exe'"
      ]
     },
     "execution_count": 13,
     "metadata": {},
     "output_type": "execute_result"
    }
   ],
   "source": [
    "# 사용중인 파이썬의 실제 경로\n",
    "sys.executable"
   ]
  },
  {
   "cell_type": "markdown",
   "metadata": {},
   "source": [
    "#### 주피터 노트북의 특징\n",
    "- 코드셀 하나에서는 변수명만 적으면 제일 마지막 값만 출력\n",
    "- 다 출력하고 싶으면 print() 써야함"
   ]
  },
  {
   "cell_type": "code",
   "execution_count": null,
   "metadata": {},
   "outputs": [],
   "source": [
    "print(sys.executable)\n",
    "print(sys.flags)"
   ]
  },
  {
   "cell_type": "markdown",
   "metadata": {},
   "source": [
    "#### 디버깅\n",
    "- 중단점은 동일\n",
    "- 디버깅은 디버그셀 Ctrl + Shift + Alt + Enter (F5 누르면 안됨)\n",
    "- 디버깅 종료는 코드셀 왼쪽 네모 아이콘 클릭"
   ]
  }
 ],
 "metadata": {
  "kernelspec": {
   "display_name": "Python 3",
   "language": "python",
   "name": "python3"
  },
  "language_info": {
   "codemirror_mode": {
    "name": "ipython",
    "version": 3
   },
   "file_extension": ".py",
   "mimetype": "text/x-python",
   "name": "python",
   "nbconvert_exporter": "python",
   "pygments_lexer": "ipython3",
   "version": "3.12.1"
  }
 },
 "nbformat": 4,
 "nbformat_minor": 2
}
