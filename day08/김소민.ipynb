{
 "cells": [
  {
   "cell_type": "markdown",
   "metadata": {},
   "source": [
    "## 1번 문제"
   ]
  },
  {
   "cell_type": "code",
   "execution_count": 5,
   "metadata": {},
   "outputs": [
    {
     "name": "stdout",
     "output_type": "stream",
     "text": [
      "원의 넓이는 78.53981633974483입니다.\n"
     ]
    }
   ],
   "source": [
    "# 1번 문제\n",
    "import math\n",
    "\n",
    "r = int(input('반지름 입력 > '))\n",
    "print(f'원의 넓이는 {r * r * math.pi}입니다.')"
   ]
  },
  {
   "cell_type": "markdown",
   "metadata": {},
   "source": [
    "## 2번 문제"
   ]
  },
  {
   "cell_type": "code",
   "execution_count": 42,
   "metadata": {},
   "outputs": [
    {
     "name": "stdout",
     "output_type": "stream",
     "text": [
      "지구\n"
     ]
    }
   ],
   "source": [
    "# 2번 문제\n",
    "solar_sys = {'Mercury' : '수성', 'Venus' : '금성', 'Earth' : '지구', 'Mars' : '화성',\n",
    "            'Jupiter' : '목성', 'Saturn': '토성', 'Uranus': '천왕성', 'Neptune' : '해왕성'}\n",
    "planet = input('행성의 영어 이름을 입력하세요 > (ex -> Earth) ')\n",
    "if planet in solar_sys:\n",
    "    print(solar_sys[planet])\n",
    "else:\n",
    "    print('행성의 명칭을 정확히 입력해주세요.')"
   ]
  },
  {
   "cell_type": "markdown",
   "metadata": {},
   "source": [
    "## 3번 문제"
   ]
  },
  {
   "cell_type": "code",
   "execution_count": 54,
   "metadata": {},
   "outputs": [
    {
     "name": "stdout",
     "output_type": "stream",
     "text": [
      "I'm hungry i want to eat some bread = 8 / I'm HUNGRY i WANT to EAT some BREAD "
     ]
    }
   ],
   "source": [
    "# 3번 문제\n",
    "# test_str = \"I'm going to leave the door open\".split(' ')\n",
    "test_str = input(\"문자열 입력 > (ex -> I'm going to leave the door open)\").split(\" \")\n",
    "res_str = test_str.copy()\n",
    "\n",
    "for i in range(len(test_str)):\n",
    "    if i % 2 != 0:\n",
    "        res_str[i] = (test_str[i].upper())\n",
    "    else:\n",
    "        res_str[i] = (test_str[i])\n",
    "\n",
    "ori_str = ' '.join(test_str)\n",
    "print(f\"{ori_str} = {len(test_str)} / \", end=\"\")\n",
    "for s in res_str:\n",
    "    print(s, end=\" \")"
   ]
  },
  {
   "cell_type": "markdown",
   "metadata": {},
   "source": [
    "## 4번 문제"
   ]
  },
  {
   "cell_type": "code",
   "execution_count": 35,
   "metadata": {},
   "outputs": [
    {
     "data": {
      "text/plain": [
       "'https://m.naver.com/'"
      ]
     },
     "execution_count": 35,
     "metadata": {},
     "output_type": "execute_result"
    }
   ],
   "source": [
    "# 4번 문제\n",
    "def get_url(url):\n",
    "    web_sites = {'google' : 'www.google.com',\n",
    "                 'naver' : 'www.naver.com',\n",
    "                 'python' : 'www.python.org',\n",
    "                 'github' : 'github.com'}\n",
    "    \n",
    "    if url in web_sites:\n",
    "        return web_sites[url]\n",
    "    else:\n",
    "        print('현재의 딕셔너리에서는 찾을 수 없습니다.')\n",
    "\n",
    "url = input('영문 이름 입력 (ex -> google)')\n",
    "get_url(url)"
   ]
  },
  {
   "cell_type": "code",
   "execution_count": 59,
   "metadata": {},
   "outputs": [
    {
     "name": "stdout",
     "output_type": "stream",
     "text": [
      "www.naver.com\n"
     ]
    }
   ],
   "source": [
    "def get_url_te(name):\n",
    "    return f'www.{name}.com'\n",
    "\n",
    "inname = input('웹사이트 이름 입력 > ')\n",
    "url = get_url_te(inname)\n",
    "print(url)"
   ]
  },
  {
   "cell_type": "markdown",
   "metadata": {},
   "source": [
    "## 5번 문제"
   ]
  },
  {
   "cell_type": "code",
   "execution_count": 56,
   "metadata": {},
   "outputs": [
    {
     "name": "stdout",
     "output_type": "stream",
     "text": [
      "3 --> 3 6 9 12 15 18 21 24 27 "
     ]
    }
   ],
   "source": [
    "# 5번 문제\n",
    "dan = int(input('구구단을 수행할 단을 입력하세요 > '))\n",
    "\n",
    "print(f'{dan} -->', end=\" \")\n",
    "for i in range(1, 10):\n",
    "    print(dan * i, end=\" \")"
   ]
  }
 ],
 "metadata": {
  "kernelspec": {
   "display_name": "Python 3",
   "language": "python",
   "name": "python3"
  },
  "language_info": {
   "codemirror_mode": {
    "name": "ipython",
    "version": 3
   },
   "file_extension": ".py",
   "mimetype": "text/x-python",
   "name": "python",
   "nbconvert_exporter": "python",
   "pygments_lexer": "ipython3",
   "version": "3.12.1"
  }
 },
 "nbformat": 4,
 "nbformat_minor": 2
}
